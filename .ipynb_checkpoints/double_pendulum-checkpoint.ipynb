{
 "cells": [
  {
   "cell_type": "code",
   "execution_count": 1,
   "id": "2137ee7d-2fa3-4cf0-bd6d-2f3e5a6e86a2",
   "metadata": {},
   "outputs": [],
   "source": [
    "from scipy.integrate import odeint\n",
    "import matplotlib.pyplot as plt\n",
    "from matplotlib.animation import FuncAnimation\n",
    "from IPython.display import HTML\n",
    "import numpy as np"
   ]
  },
  {
   "cell_type": "code",
   "execution_count": null,
   "id": "f3cce57a-482d-44dd-a64f-f3f0666cd494",
   "metadata": {},
   "outputs": [],
   "source": [
    "L1 = 2.0\n",
    "L2 = 1.0\n",
    "m1 = 3.0\n",
    "m2 = 4.0\n",
    "\n",
    "theta10 = np.pi/4\n",
    "theta20 = np.pi/3\n",
    "\n",
    "T1 = 0.5 * m1 * (x1**2 + y1**2)\n",
    "\n",
    "\n",
    "\n",
    "\n",
    "\n",
    "\n",
    "\n"
   ]
  }
 ],
 "metadata": {
  "kernelspec": {
   "display_name": "Python 3 (ipykernel)",
   "language": "python",
   "name": "python3"
  },
  "language_info": {
   "codemirror_mode": {
    "name": "ipython",
    "version": 3
   },
   "file_extension": ".py",
   "mimetype": "text/x-python",
   "name": "python",
   "nbconvert_exporter": "python",
   "pygments_lexer": "ipython3",
   "version": "3.13.2"
  }
 },
 "nbformat": 4,
 "nbformat_minor": 5
}
